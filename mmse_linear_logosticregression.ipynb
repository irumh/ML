{
  "nbformat": 4,
  "nbformat_minor": 0,
  "metadata": {
    "colab": {
      "name": "IRUM HUSSAIN - LAB_4.ipynb",
      "provenance": [],
      "collapsed_sections": []
    },
    "kernelspec": {
      "display_name": "Python 3",
      "language": "python",
      "name": "python3"
    },
    "language_info": {
      "codemirror_mode": {
        "name": "ipython",
        "version": 3
      },
      "file_extension": ".py",
      "mimetype": "text/x-python",
      "name": "python",
      "nbconvert_exporter": "python",
      "pygments_lexer": "ipython3",
      "version": "3.8.5"
    }
  },
  "cells": [
    {
      "cell_type": "markdown",
      "metadata": {
        "id": "J59uxyWVDHIH"
      },
      "source": [
        "# <center> IIIT Vadodara </center>\n",
        "## <center> Winter 2021-22 </center>\n",
        "## <center> CS 612/652, CS/IT 308 Machine Learning </center>\n",
        "## <center> Lab#4 MMSE, Linear regression, and Logistic regression</center>"
      ]
    },
    {
      "cell_type": "code",
      "metadata": {
        "id": "avzQ8wuovv0r"
      },
      "source": [
        "%matplotlib inline\n",
        "import numpy as np\n",
        "import matplotlib.pyplot as plt\n",
        "from mpl_toolkits import mplot3d\n",
        "from scipy import misc\n",
        "from numpy import linalg as la\n",
        "import matplotlib.image as mpimg\n",
        "import glob\n",
        "from numpy import linalg as LA\n",
        "import scipy.io as sio "
      ],
      "execution_count": null,
      "outputs": []
    },
    {
      "cell_type": "markdown",
      "metadata": {
        "id": "Ul9TzH7FarSJ"
      },
      "source": [
        "## <font color='blue'> MMSE\n",
        "\n",
        "---\n",
        "\n",
        "Refer class note\n",
        "\n"
      ]
    },
    {
      "cell_type": "markdown",
      "metadata": {
        "id": "9LxANVCMGpeg"
      },
      "source": [
        "## <font color='red'> 1. Find the minimum mean squared error (MMSE) on following data."
      ]
    },
    {
      "cell_type": "code",
      "metadata": {
        "colab": {
          "base_uri": "https://localhost:8080/"
        },
        "id": "29q1QCGfGoji",
        "outputId": "57cb2cbc-b408-4aa2-b953-27e555e6cda6"
      },
      "source": [
        "y = [11,20,19,17,10]\n",
        "y_bar = [12,18,19.5,18,9]\n",
        "s = 0 \n",
        "n=len(y)\n",
        "for i in range (0,n):  \n",
        "   diff= y[i] - y_bar[i]  \n",
        "   x = diff**2 \n",
        "   s = s + x \n",
        "MSE = s/n \n",
        "#write code here\n",
        "print (\"The Mean Square Error is: \" , MSE)"
      ],
      "execution_count": null,
      "outputs": [
        {
          "output_type": "stream",
          "name": "stdout",
          "text": [
            "The Mean Square Error is:  1.45\n"
          ]
        }
      ]
    },
    {
      "cell_type": "markdown",
      "metadata": {
        "id": "mSc_Dw5NIEQR"
      },
      "source": [
        "## <font color='red'> 2 Given a sample space $S_{XY}={(0,0),(1,1),(2,2),(2,3)}$, with equiprobable outcomes, i.e., $p(0,0)=p(1,1)=p(2,2)=p(2,3)=\\frac{1}{4}$. Estimate $\\hat{Y}$ given X.\n",
        "\n",
        "\n",
        "$$\\hat{Y}=E(Y)+\\frac{COV(X,Y)}{VAR(X)}(X-E(X))$$\n",
        "\n",
        "Also calculate the mean squared error between $\\hat{Y}$ and $Y$.\n",
        "\n",
        "\n",
        "Hint: You can use the classnotes for help."
      ]
    },
    {
      "cell_type": "code",
      "metadata": {
        "id": "_DVM24iIOLvs",
        "colab": {
          "base_uri": "https://localhost:8080/"
        },
        "outputId": "d8508409-6e12-4b14-bb21-58e858bb03cc"
      },
      "source": [
        "#write code here\n",
        "x=np.array([[0,0],[1,1],[2,2],[2,3]])\n",
        "p=1/4\n",
        "a=x[:,0]\n",
        "b=x[:,1]\n",
        "#Expectation of x\n",
        "E_X=0\n",
        "for i in range(0,4):\n",
        "  E_X+=a[i]*p\n",
        "print(\"E[X] \\n\",E_X)\n",
        "#Expectation of y\n",
        "E_Y=0\n",
        "for i in range(0,4):\n",
        "  E_Y+=b[i]*p\n",
        "print(\"E[Y] \\n\",E_Y)\n",
        "#Expectation of x^2\n",
        "E_XX=0\n",
        "for i in range(0,4):\n",
        "  E_XX+=(a[i]**2)*p\n",
        "print(\"E[X^2] \\n\",E_XX)\n",
        "#Expectation of xy\n",
        "E_XY=0\n",
        "for i in range(0,4):\n",
        "  E_XY+=(a[i]*b[i])*p\n",
        "print(\"E[XY] \\n\",E_XY)\n",
        "#variance of x\n",
        "var_x=E_XX-(E_X**2)\n",
        "print(\"variance of x \\n\",var_x)\n",
        "#covariance of xy\n",
        "cov=E_XY-((E_X)*(E_Y))\n",
        "print(\"covariance of xy \\n:\",cov)\n",
        "#y_bar\n",
        "y_bar=[]\n",
        "for i in range(0,4):\n",
        "  y_bar.append(E_Y+(cov/var_x)*(i-E_X))\n",
        "print(\"y_bar  : \\n\",y_bar)"
      ],
      "execution_count": null,
      "outputs": [
        {
          "output_type": "stream",
          "name": "stdout",
          "text": [
            "E[X] \n",
            " 1.25\n",
            "E[Y] \n",
            " 1.5\n",
            "E[X^2] \n",
            " 2.25\n",
            "E[XY] \n",
            " 2.75\n",
            "variance of x \n",
            " 0.6875\n",
            "covariance of xy \n",
            ": 0.875\n",
            "y_bar  : \n",
            " [-0.09090909090909083, 1.1818181818181819, 2.4545454545454546, 3.727272727272727]\n"
          ]
        }
      ]
    },
    {
      "cell_type": "markdown",
      "metadata": {
        "id": "sA91hARzDHIN"
      },
      "source": [
        "## <font color='blue'> Linear regression\n",
        "\n",
        "---\n",
        "\n",
        "Refer class note\n",
        "\n"
      ]
    },
    {
      "cell_type": "markdown",
      "metadata": {
        "id": "A_AErP9zTzhW"
      },
      "source": [
        "## <font color='red'> 3. Perform linear regression on the given dataset and observe underfitting and overfitting capacity of the function."
      ]
    },
    {
      "cell_type": "code",
      "metadata": {
        "colab": {
          "base_uri": "https://localhost:8080/"
        },
        "id": "ece3rfGPDHIO",
        "outputId": "d5892a44-5542-418e-e519-a1d7a155fb3d"
      },
      "source": [
        "#example of dataset:\n",
        "no_samples = 10\n",
        "\n",
        "#Generate n = np.random.rand(no_samples) # Here data is zero mean\n",
        "n=np.random.rand(no_samples)\n",
        "print(n)\n",
        "#Generate x between 0 and 2 using number of smaples\n",
        "x=np.linspace(0.0,2.0,num=no_samples)\n",
        "print(x)\n",
        "#Generate function y dependent on x and n: y = x**2+2*n\n",
        "y = x**2+2*n\n",
        "print(y)\n"
      ],
      "execution_count": null,
      "outputs": [
        {
          "output_type": "stream",
          "name": "stdout",
          "text": [
            "[0.82513504 0.54582272 0.02030676 0.12228188 0.22228321 0.70396806\n",
            " 0.1383668  0.53770012 0.48430434 0.74304723]\n",
            "[0.         0.22222222 0.44444444 0.66666667 0.88888889 1.11111111\n",
            " 1.33333333 1.55555556 1.77777778 2.        ]\n",
            "[1.65027008 1.14102815 0.23814439 0.6890082  1.23468989 2.64250401\n",
            " 2.05451139 3.49515332 4.12910251 5.48609446]\n"
          ]
        }
      ]
    },
    {
      "cell_type": "code",
      "metadata": {
        "colab": {
          "base_uri": "https://localhost:8080/",
          "height": 265
        },
        "id": "oXhg_EyRDHIO",
        "outputId": "ad69e590-a136-46e3-9c3d-f76747e29b69"
      },
      "source": [
        "# code to scatter plot x and y\n",
        "plt.scatter(x, y)\n",
        "plt.show()\n",
        "\n"
      ],
      "execution_count": null,
      "outputs": [
        {
          "output_type": "display_data",
          "data": {
            "image/png": "[encoded data removed]",
            "text/plain": [
              "<Figure size 432x288 with 1 Axes>"
            ]
          },
          "metadata": {
            "needs_background": "light"
          }
        }
      ]
    },
    {
      "cell_type": "markdown",
      "metadata": {
        "id": "FRn1fNC3V6A2"
      },
      "source": [
        "#### Hint: Pseudo inverse\n",
        " $$Y = W^TX$$\n",
        " $$W = (X^TX)^{-1}X^TY$$ "
      ]
    },
    {
      "cell_type": "markdown",
      "metadata": {
        "id": "Q2hKjTtGW1_Q"
      },
      "source": [
        "1. Take $y = \\theta_0 + \\theta_1 x$"
      ]
    },
    {
      "cell_type": "code",
      "metadata": {
        "colab": {
          "base_uri": "https://localhost:8080/"
        },
        "id": "t314LgujDfsU",
        "outputId": "215cf279-c9f8-4002-c08a-a775ec2c1e42"
      },
      "source": [
        "#Generate X1 by concatinating ones and x as shown in output\n",
        "a=np.ones((10,1))\n",
        "print(a.shape)\n",
        "X1=np.concatenate((a,x.reshape(-1,1)),axis=1)\n",
        "\n",
        "\n",
        "#Find W1 using pseudo inverse\n",
        "print(X1)\n",
        "x_t=np.transpose(X1)\n",
        "#print(x_t.shape)\n",
        "ss=np.dot(x_t,X1)\n",
        "#print(ss.shape)\n",
        "z=la.inv(ss)\n",
        "b=np.dot(z,x_t)\n",
        "W1=np.dot(b,y)\n",
        "print(W1)"
      ],
      "execution_count": null,
      "outputs": [
        {
          "output_type": "stream",
          "name": "stdout",
          "text": [
            "(10, 1)\n",
            "[[1.         0.        ]\n",
            " [1.         0.22222222]\n",
            " [1.         0.44444444]\n",
            " [1.         0.66666667]\n",
            " [1.         0.88888889]\n",
            " [1.         1.11111111]\n",
            " [1.         1.33333333]\n",
            " [1.         1.55555556]\n",
            " [1.         1.77777778]\n",
            " [1.         2.        ]]\n",
            "[0.16982405 2.10622659]\n"
          ]
        }
      ]
    },
    {
      "cell_type": "markdown",
      "metadata": {
        "id": "QSz_j96NXFrl"
      },
      "source": [
        "2. Take $y = \\theta_0 + \\theta_1 x + \\theta_2 x^2 +\\theta_3 x^3 +\\theta_4 x^4+\\theta_5 x^5$"
      ]
    },
    {
      "cell_type": "code",
      "metadata": {
        "id": "k15lcMq9GqY5",
        "colab": {
          "base_uri": "https://localhost:8080/"
        },
        "outputId": "b610cc67-0cfd-4176-ddd4-7308df6c5b32"
      },
      "source": [
        "#Generate X2 by concatinating ones,x,x**2,x**3,x**4,x**5 \n",
        "x1=x.reshape(-1,1)\n",
        "print(x1.shape)\n",
        "x1_2=np.power(x1,2)\n",
        "x1_3=np.power(x1,3)\n",
        "x1_4=np.power(x1,4)\n",
        "x1_5=np.power(x1,5)\n",
        "X2=np.concatenate((a,x1,x1_2,x1_3,x1_4,x1_5),axis=1)\n",
        "\n",
        "#Generate W2 using: W2= la.inv(X2.T@X2)@X2.T@y\n",
        "x_t=np.transpose(X2)\n",
        "#print(x_t.shape)\n",
        "ss=np.dot(x_t,X2)\n",
        "#print(ss.shape)\n",
        "z=la.inv(ss)\n",
        "b=np.dot(z,x_t)\n",
        "W2=np.dot(b,y)\n",
        "print(X2)\n",
        "print(W2)"
      ],
      "execution_count": null,
      "outputs": [
        {
          "output_type": "stream",
          "name": "stdout",
          "text": [
            "(10, 1)\n",
            "[[1.00000000e+00 0.00000000e+00 0.00000000e+00 0.00000000e+00\n",
            "  0.00000000e+00 0.00000000e+00]\n",
            " [1.00000000e+00 2.22222222e-01 4.93827160e-02 1.09739369e-02\n",
            "  2.43865264e-03 5.41922810e-04]\n",
            " [1.00000000e+00 4.44444444e-01 1.97530864e-01 8.77914952e-02\n",
            "  3.90184423e-02 1.73415299e-02]\n",
            " [1.00000000e+00 6.66666667e-01 4.44444444e-01 2.96296296e-01\n",
            "  1.97530864e-01 1.31687243e-01]\n",
            " [1.00000000e+00 8.88888889e-01 7.90123457e-01 7.02331962e-01\n",
            "  6.24295077e-01 5.54928957e-01]\n",
            " [1.00000000e+00 1.11111111e+00 1.23456790e+00 1.37174211e+00\n",
            "  1.52415790e+00 1.69350878e+00]\n",
            " [1.00000000e+00 1.33333333e+00 1.77777778e+00 2.37037037e+00\n",
            "  3.16049383e+00 4.21399177e+00]\n",
            " [1.00000000e+00 1.55555556e+00 2.41975309e+00 3.76406036e+00\n",
            "  5.85520500e+00 9.10809667e+00]\n",
            " [1.00000000e+00 1.77777778e+00 3.16049383e+00 5.61865569e+00\n",
            "  9.98872123e+00 1.77577266e+01]\n",
            " [1.00000000e+00 2.00000000e+00 4.00000000e+00 8.00000000e+00\n",
            "  1.60000000e+01 3.20000000e+01]]\n",
            "[ 1.72005913 -4.46253155  1.36916092  8.89555295 -7.73525421  1.87043716]\n"
          ]
        }
      ]
    },
    {
      "cell_type": "markdown",
      "metadata": {
        "id": "O8dE-LFTXjlg"
      },
      "source": [
        "3. Take $y = \\theta_0 + \\theta_1 x + \\theta_2 x^2 $"
      ]
    },
    {
      "cell_type": "code",
      "metadata": {
        "id": "TzezcIs1EKyU",
        "colab": {
          "base_uri": "https://localhost:8080/"
        },
        "outputId": "fa25c6f9-25ca-44c6-a7f1-4911d48698c0"
      },
      "source": [
        "#Generate X3 by concatinating ones,x,x**2 \n",
        "X3=np.concatenate((a,x1,x1_2),axis=1)\n",
        "#Generate W3 using: W2= la.inv(X3.T@X3)@X3.T@y\n",
        "x_t=np.transpose(X3)\n",
        "#print(x_t.shape)\n",
        "ss=np.dot(x_t,X3)\n",
        "#print(ss.shape)\n",
        "z=la.inv(ss)\n",
        "b=np.dot(z,x_t)\n",
        "W3=np.dot(b,y)\n",
        "print(X3)\n",
        "print(W3)\n"
      ],
      "execution_count": null,
      "outputs": [
        {
          "output_type": "stream",
          "name": "stdout",
          "text": [
            "[[1.         0.         0.        ]\n",
            " [1.         0.22222222 0.04938272]\n",
            " [1.         0.44444444 0.19753086]\n",
            " [1.         0.66666667 0.44444444]\n",
            " [1.         0.88888889 0.79012346]\n",
            " [1.         1.11111111 1.2345679 ]\n",
            " [1.         1.33333333 1.77777778]\n",
            " [1.         1.55555556 2.41975309]\n",
            " [1.         1.77777778 3.16049383]\n",
            " [1.         2.         4.        ]]\n",
            "[ 1.34645208 -1.86489299  1.98555979]\n"
          ]
        }
      ]
    },
    {
      "cell_type": "code",
      "source": [
        "fig = plt.figure()\n",
        "plt.scatter(x,y)\n",
        "y_p1 = np.dot(X1,W1)\n",
        "print(y_p1)\n",
        "y_p2 = np.dot(X2,W2)\n",
        "print(y_p2)\n",
        "y_p3 = np.dot(X3,W3)\n",
        "print(y_p3)\n",
        "plt.plot(x,y_p1)\n",
        "plt.plot(x,y_p2)\n",
        "plt.plot(x,y_p3)\n",
        "plt.show()"
      ],
      "metadata": {
        "colab": {
          "base_uri": "https://localhost:8080/",
          "height": 375
        },
        "id": "4m_oaAPnyPXZ",
        "outputId": "ba58219a-5ad8-4d85-e9a1-fc753ebb8ce8"
      },
      "execution_count": null,
      "outputs": [
        {
          "output_type": "stream",
          "name": "stdout",
          "text": [
            "[0.16982405 0.6378744  1.10592476 1.57397511 2.04202546 2.51007582\n",
            " 2.97812617 3.44617652 3.91422688 4.38227723]\n",
            "[1.72005913 0.87576761 0.51873588 0.70763472 1.29168035 2.03227038\n",
            " 2.72461968 3.31939629 4.04435736 5.52598502]\n",
            "[1.34645208 1.03008375 0.90982009 0.9856611  1.25760678 1.72565713\n",
            " 2.38981216 3.25007185 4.30643622 5.55890525]\n"
          ]
        },
        {
          "output_type": "display_data",
          "data": {
            "image/png": "[encoded data removed]",
            "text/plain": [
              "<Figure size 432x288 with 1 Axes>"
            ]
          },
          "metadata": {
            "needs_background": "light"
          }
        }
      ]
    },
    {
      "cell_type": "code",
      "source": [
        ""
      ],
      "metadata": {
        "id": "q_spLv39xyJi"
      },
      "execution_count": null,
      "outputs": []
    },
    {
      "cell_type": "markdown",
      "metadata": {
        "id": "elPPF--j54CE"
      },
      "source": [
        "## <font color='blue'> Brief about **Gradient descent**:\n",
        "---\n",
        "\n",
        "\n",
        "Given a system $Ax=b$, we find $x$ for given observations $b$ and coeffiecient matrix $A$. When $b$ is not in column space of $A$, then $Ax \\neq b$ and we need to find $x$ in such a way that $Ax \\approx b$.\n",
        "\n",
        "<br>\n",
        "Linear least square is one of the methods to estimate $x$ by minimizing the mean square error as, $\\min ||Ax-b||_2$. This can be written as,\n",
        "        \n",
        "$\\underset{x}{\\mathrm{argmin}}||Ax-b||_{2}^{2} = f(x)$\n",
        "\n",
        "We need to find $x$ in such a way that $f(x)$ will be minimum in $L_2$ norm. \n",
        "\n",
        "<br>\n",
        "\n",
        "\n",
        "We will solve this by applying gradient descent algortithm on $f(x)$. \n",
        "<br>\n",
        "To apply this algorithm we need to find gradient of the function, i.e.,\n",
        "<br>\n",
        "              $\\Delta_x f(x)= A^T(Ax-b) = A^TAx-A^Tb$\n",
        "\n",
        "<br>\n",
        "\n",
        "\n",
        "Optimisation for least-squares\n",
        "<br>\n",
        "$||A^TAx-A^Tb||_2>\\delta$, $\\delta$ is the small positive number indicating tolerance.\n",
        "\n",
        "<br>\n",
        "\n",
        "Now we will find new x iteratively using step size $\\alpha$ to find the best fit for $AX=b$ as:\n",
        "\n",
        "<br>\n",
        "$x^{[n+1]}=x^{[n]}-\\alpha (A^TAx-A^Tb)$.\n",
        "<br>\n",
        "\n",
        "We need to choose $\\alpha$, $\\delta$ and $x^{[0]}$ to iterate until $x^{[n+1]} \\rightarrow x^{[n]}$."
      ]
    },
    {
      "cell_type": "markdown",
      "metadata": {
        "id": "5RHmtTp_2rD-"
      },
      "source": [
        "##  <font color='blue'> Logistic regression\n",
        "\n",
        "---\n",
        "Cost funcion for logistic regression,\n",
        "$$\n",
        "\\begin{aligned}\n",
        "J(\\theta) &=\\frac{1}{m} \\sum_{i=1}^{m} \\cos t\\left(h_{\\theta}\\left(x^{i}\\right), y^{\\prime}\\right) \\\\\n",
        "&=-\\frac{1}{m}\\left[\\sum_{i=1}^{m} y^{i} \\log h_{\\theta}\\left(x^{i}\\right)+\\left(1-y^{i}\\right)\\right.\\log \\left(1-\\log \\left(x^{i}\\right)\\right]\\\\\n",
        "h(x)&=\\frac{1}{1+e^{-\\Theta^Tx}}\n",
        "\\end{aligned}\n",
        "$$\n",
        "So, using gradient descent\n",
        "$$\n",
        "\\Theta_{i+1}=\\Theta_{i}-\\frac{\\alpha}{m} \\sum_{i=1}^{m}\\left(h\\left(x^{i} \\Theta\\right)-y^{i}\\right)\n",
        "$$\n",
        "iterate till $$\n",
        "\\Theta_{i+1} \\cong \\Theta_{i}\n",
        "$$\n",
        "\n",
        "\n"
      ]
    },
    {
      "cell_type": "markdown",
      "metadata": {
        "id": "bmByR5kGEznY"
      },
      "source": [
        "## <font color='red'> 4. Perform logistic regression on the dataset given below.\n",
        "Here, to classify 2D data,\n",
        "decision line can be given as,\n",
        "$$\\theta_0+\\theta_1x+\\theta_2y=0$$\n",
        "Let, $$\\Theta^T=\\begin{bmatrix}\n",
        "\\theta_0\\\\\n",
        "\\theta_1\\\\\n",
        "\\theta_2\n",
        "\\end{bmatrix}$$"
      ]
    },
    {
      "cell_type": "code",
      "metadata": {
        "colab": {
          "base_uri": "https://localhost:8080/"
        },
        "id": "z5jBd5UfOKPK",
        "outputId": "84e242df-f861-45b3-9a07-f59290e30305"
      },
      "source": [
        "#Dataset example\n",
        "X = np.array([[0,0,0],[0,1,0],[0,2,0],[0,3,1],[1,0,0],[1,1,0],[1,2,1],[1,3,1],[2,0,0],[2,1,1],[2,2,1],[2,3,1]])\n",
        "Xb =X\n",
        "print(\"x|y|class\")\n",
        "print(Xb)"
      ],
      "execution_count": null,
      "outputs": [
        {
          "output_type": "stream",
          "name": "stdout",
          "text": [
            "x|y|class\n",
            "[[0 0 0]\n",
            " [0 1 0]\n",
            " [0 2 0]\n",
            " [0 3 1]\n",
            " [1 0 0]\n",
            " [1 1 0]\n",
            " [1 2 1]\n",
            " [1 3 1]\n",
            " [2 0 0]\n",
            " [2 1 1]\n",
            " [2 2 1]\n",
            " [2 3 1]]\n"
          ]
        }
      ]
    },
    {
      "cell_type": "code",
      "metadata": {
        "colab": {
          "base_uri": "https://localhost:8080/",
          "height": 265
        },
        "id": "FCTOtJI2OKPK",
        "outputId": "1b0202c3-42e0-468e-9c81-35e98eb6122b"
      },
      "source": [
        "#Generate scatter plot of X\n",
        "uq = np.unique(X[:,-1])\n",
        "for i in uq:\n",
        "    cl1 = X[X[:,-1]==i]\n",
        "    plt.scatter(cl1[:,0], cl1[:,1],linewidth=10)"
      ],
      "execution_count": null,
      "outputs": [
        {
          "output_type": "display_data",
          "data": {
            "image/png": "[encoded data removed]",
            "text/plain": [
              "<Figure size 432x288 with 1 Axes>"
            ]
          },
          "metadata": {
            "needs_background": "light"
          }
        }
      ]
    },
    {
      "cell_type": "code",
      "metadata": {
        "id": "8nFt5IMZOKPL",
        "colab": {
          "base_uri": "https://localhost:8080/"
        },
        "outputId": "c6b0d25f-f71d-4fd6-a050-5ca4deb2c423"
      },
      "source": [
        "# Generate X by concatinating ones and X\n",
        "a=np.ones((12,1))\n",
        "print(X.shape)\n",
        "b=X.reshape(-1,1)\n",
        "X=np.concatenate((a,X),axis=1)\n",
        "print(X)"
      ],
      "execution_count": null,
      "outputs": [
        {
          "output_type": "stream",
          "name": "stdout",
          "text": [
            "(12, 3)\n",
            "[[1. 0. 0. 0.]\n",
            " [1. 0. 1. 0.]\n",
            " [1. 0. 2. 0.]\n",
            " [1. 0. 3. 1.]\n",
            " [1. 1. 0. 0.]\n",
            " [1. 1. 1. 0.]\n",
            " [1. 1. 2. 1.]\n",
            " [1. 1. 3. 1.]\n",
            " [1. 2. 0. 0.]\n",
            " [1. 2. 1. 1.]\n",
            " [1. 2. 2. 1.]\n",
            " [1. 2. 3. 1.]]\n"
          ]
        }
      ]
    },
    {
      "cell_type": "code",
      "source": [
        "y=Xb[:,1]\n",
        "y"
      ],
      "metadata": {
        "colab": {
          "base_uri": "https://localhost:8080/"
        },
        "id": "t7H9a2_q3uEe",
        "outputId": "29eca5ac-9c12-4e30-b364-14ae5e7814f6"
      },
      "execution_count": null,
      "outputs": [
        {
          "output_type": "execute_result",
          "data": {
            "text/plain": [
              "array([0, 1, 2, 3, 0, 1, 2, 3, 0, 1, 2, 3])"
            ]
          },
          "metadata": {},
          "execution_count": 23
        }
      ]
    },
    {
      "cell_type": "code",
      "source": [
        "#write code for gradient descent to find thetas\n",
        "def gradientDescent(x, y, theta, alpha, m, numIterations):\n",
        "    xTrans = x.transpose()\n",
        "    for i in range(0, numIterations):\n",
        "        hypothesis = np.dot(x, theta)\n",
        "        loss = hypothesis - y\n",
        "        cost = np.sum(loss ** 2) / (2 * m)\n",
        "        gradient = np.dot(xTrans, loss) / m\n",
        "        theta = theta - alpha * gradient\n",
        "    return theta\n",
        "\n",
        "m, n = np.shape(Xb)\n",
        "numIterations= 100\n",
        "alpha = 0.0005\n",
        "theta = np.ones(n)\n",
        "theta = gradientDescent(Xb, y, theta, alpha, m, numIterations)\n",
        "print(theta)"
      ],
      "metadata": {
        "colab": {
          "base_uri": "https://localhost:8080/"
        },
        "id": "wed4MBmbIRBE",
        "outputId": "0a12f8a3-6416-4342-b20c-d1dfcd2c6806"
      },
      "execution_count": null,
      "outputs": [
        {
          "output_type": "stream",
          "name": "stdout",
          "text": [
            "[0.89330867 0.88291859 0.94768684]\n"
          ]
        }
      ]
    },
    {
      "cell_type": "code",
      "metadata": {
        "colab": {
          "base_uri": "https://localhost:8080/",
          "height": 283
        },
        "id": "iefMj3P58Ami",
        "outputId": "fcd0349d-d614-48f7-c226-603161fce947"
      },
      "source": [
        "#plot decision boundry \n",
        "a=np.ones((12,1))\n",
        "theta = np.array([[-5.09963709],[ 1.86891016],[ 2.31806179]])\n",
        "x=Xb[:,0]\n",
        "x=x.reshape(-1,1)\n",
        "x1_2=np.square(x)\n",
        "X3=np.concatenate((a,x,x1_2),axis=1)\n",
        "W3=la.inv(X3.T@X3)@X3.T@y\n",
        "fig = plt.figure()\n",
        "plt.scatter(x,y)\n",
        "y_p3 = np.dot(X3,W3)\n",
        "print(y_p3)\n",
        "plt.plot(x,y_p3)\n",
        "plt.show()"
      ],
      "execution_count": null,
      "outputs": [
        {
          "output_type": "execute_result",
          "data": {
            "text/plain": [
              "[<matplotlib.lines.Line2D at 0x7f2ea1ad0e80>]"
            ]
          },
          "metadata": {
            "tags": []
          },
          "execution_count": 146
        },
        {
          "output_type": "display_data",
          "data": {
            "image/png": "[encoded data removed]",
            "text/plain": [
              "<Figure size 432x288 with 1 Axes>"
            ]
          },
          "metadata": {
            "tags": [],
            "needs_background": "light"
          }
        }
      ]
    }
  ]
}