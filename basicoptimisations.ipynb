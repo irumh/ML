{
  "nbformat": 4,
  "nbformat_minor": 0,
  "metadata": {
    "colab": {
      "name": "Copy of IRUM HUSSAIN - LAB_5.ipynb",
      "provenance": [],
      "collapsed_sections": []
    },
    "kernelspec": {
      "name": "python3",
      "display_name": "Python 3"
    }
  },
  "cells": [
    {
      "cell_type": "markdown",
      "metadata": {
        "id": "h6WZR-vQ0xwH"
      },
      "source": [
        "# <center> IIIT Vadodara </center>\n",
        "## <center> Winter 2021-22 </center>\n",
        "## <center> CS 612/652, CS/IT 308 Machine Learning </center>\n",
        "## <center> Lab#5 Basic optimization techniques </center>"
      ]
    },
    {
      "cell_type": "code",
      "metadata": {
        "id": "Fg5GcQAI_s34"
      },
      "source": [
        "%matplotlib inline\n",
        "import numpy as np\n",
        "import matplotlib.pyplot as plt\n",
        "from scipy import misc\n",
        "from scipy.io import wavfile\n",
        "from numpy import linalg as la\n",
        "import matplotlib.image as mpimg\n",
        "import glob\n",
        "from numpy import linalg as LA\n",
        "import scipy.io as sio \n"
      ],
      "execution_count": null,
      "outputs": []
    },
    {
      "cell_type": "markdown",
      "metadata": {
        "id": "D8o_xdMsZyS0"
      },
      "source": [
        "**Problem 1)** Find minima of following functions using gradient descent method with learning rate 0.01 and 0.1 along with different number of iterations. Try choosing a large value of learning rate and test the convergence. Plot the functions, highlight corresponding minima, and show convergence/divergence on the plot.\n",
        "\n",
        "(a) $L_1(θ) = θ^2$\n",
        "\n",
        "(b) $L_2(θ) = θ_1^2 + θ_2^2$\n",
        "\n",
        "(c) $L_3(θ) = (θ - 1)^2$\n",
        "\n",
        "(d) $L_4(θ) = 2 (θ_1-1)^2 + 2(θ_2-1)^2$\n"
      ]
    },
    {
      "cell_type": "code",
      "metadata": {
        "id": "27WaLG2bWPMh",
        "colab": {
          "base_uri": "https://localhost:8080/"
        },
        "outputId": "f559ca98-9e25-408a-8f4f-3d73b91c4ab4"
      },
      "source": [
        "import numpy as np\n",
        "import pandas as pd\n",
        "import matplotlib.pyplot as plt\n",
        "from mpl_toolkits.mplot3d import Axes3D\n",
        "import statistics as st\n",
        "import sympy as sy\n",
        "\n",
        "# you can assume theta=5000000\n",
        "# p=theta+1\n",
        "# e=0.000001\n",
        "# aplha=0.1\n",
        "\n",
        "# can use while loop for |p-theta|>e\n",
        "theta = 5000000 \n",
        "alpha = 0.01 \n",
        "e= 0.000001  \n",
        "cnt= 0 #iteration counter\n",
        "df = lambda x: 2*(x) \n",
        "p=theta+1\n",
        "while abs(theta - p) > e :\n",
        "    p = theta \n",
        "    theta = theta - alpha * df(p) #Grad descent\n",
        "    cnt = cnt+1 #iteration count\n",
        " \n",
        "print(\"Theta :\", theta)\n",
        "print(\"iters :\",cnt)     \n",
        "    \n",
        "    \n",
        "\n",
        "   "
      ],
      "execution_count": null,
      "outputs": [
        {
          "output_type": "stream",
          "name": "stdout",
          "text": [
            "Theta : 4.871862228969798e-05\n",
            "iters : 1255\n"
          ]
        }
      ]
    },
    {
      "cell_type": "markdown",
      "metadata": {
        "id": "s_BcFsGTnH-c"
      },
      "source": [
        "Q1 (b)\n"
      ]
    },
    {
      "cell_type": "code",
      "metadata": {
        "id": "ZvCJ2TyenMQO",
        "colab": {
          "base_uri": "https://localhost:8080/"
        },
        "outputId": "958678de-124d-4fbb-f19c-3f7ca993ac81"
      },
      "source": [
        "theta0 = 10000 \n",
        "theta1= 50000\n",
        "rate = 0.1 \n",
        "precision = 0.000001 \n",
        "x_change0 = 1 \n",
        "x_change1= 1 \n",
        "cnt = 0 \n",
        "df = lambda x: 2*(x) \n",
        "while  x_change0 > precision or x_change1  > precision :\n",
        "    p0 = theta0 \n",
        "    theta0 =theta0 - rate * df(p0) #Grad descent\n",
        "    x_change0  = abs(theta0- p0) #Change\n",
        "    p1 = theta1\n",
        "    theta1 = theta1 - rate * df(p1) #Grad descent\n",
        "    x_change1 = abs(theta1 - p1) #Change \n",
        "    cnt = cnt+1 #iteration count\n",
        "    \n",
        "\n",
        "\n",
        "    \n",
        "print(theta0,theta1)\n",
        "print(cnt)"
      ],
      "execution_count": null,
      "outputs": [
        {
          "output_type": "stream",
          "name": "stdout",
          "text": [
            "6.67495948725285e-07 3.3374797436264246e-06\n",
            "105\n"
          ]
        }
      ]
    },
    {
      "cell_type": "markdown",
      "metadata": {
        "id": "BZZkgB6lnYTD"
      },
      "source": [
        "Q1 (c)"
      ]
    },
    {
      "cell_type": "code",
      "metadata": {
        "id": "pTeCNZEOnbiC",
        "colab": {
          "base_uri": "https://localhost:8080/"
        },
        "outputId": "5bcf0116-eb41-45df-c568-3011c2ed8189"
      },
      "source": [
        "# theta0=50\n",
        "# p=theta0+1\n",
        "# e=0.000001\n",
        "# alpha=0.1\n",
        "\n",
        "# while for |theta0-p|>e:\n",
        "    \n",
        "\n",
        "theta = 50 \n",
        "alpha = 0.1 \n",
        "e= 0.000001 \n",
        "max_iters = 10000 \n",
        "cnt= 0 #iteration counter\n",
        "df = lambda x: 2*(x-1) \n",
        "p=theta+1\n",
        "while abs(theta - p) > e  :\n",
        "    p = theta \n",
        "    theta = theta - alpha * df(p) #Grad descent\n",
        "    cnt = cnt+1 #iteration count\n",
        " \n",
        "print(\"Theta :\", theta)\n",
        "print(\"iters :\",cnt)     \n",
        "    \n"
      ],
      "execution_count": null,
      "outputs": [
        {
          "output_type": "stream",
          "name": "stdout",
          "text": [
            "Theta : 1.0000033025934667\n",
            "iters : 74\n"
          ]
        }
      ]
    },
    {
      "cell_type": "markdown",
      "metadata": {
        "id": "ojCcdJqBnke-"
      },
      "source": [
        "Q1 (d)"
      ]
    },
    {
      "cell_type": "code",
      "metadata": {
        "id": "RKSIdULpnm8-",
        "colab": {
          "base_uri": "https://localhost:8080/"
        },
        "outputId": "0fd3818e-d132-4eab-b1b1-a86d51cd72da"
      },
      "source": [
        "#theta0=10000\n",
        "#theta1=50000\n",
        "\n",
        "\n",
        "#e=0.000001\n",
        "#alpha=0.1\n",
        "\n",
        "#while loop for |theta0-p0|>e or |theta1-p1|>e:\n",
        "theta0 = 10000 \n",
        "theta1= 50000\n",
        "rate = 0.1 \n",
        "precision = 0.000001 \n",
        "x_change0 = 1 \n",
        "x_change1= 1 \n",
        "max_iters = 10000 \n",
        "cnt = 0 #iteration counter\n",
        "df = lambda x: 4*(x-1) #Gradient \n",
        "while  x_change0 > precision or x_change1  > precision :\n",
        "    p0 = theta0 \n",
        "    theta0 =theta0 - rate * df(p0) #Grad descent\n",
        "    x_change0  = abs(theta0- p0) \n",
        "    p1 = theta1 \n",
        "    theta1 = theta1 - rate * df(p1) #Grad descent\n",
        "    x_change1 = abs(theta1 - p1)\n",
        "    cnt = cnt+1 #iteration count\n",
        "\n",
        "print(theta0,theta1)\n",
        "print(cnt)"
      ],
      "execution_count": null,
      "outputs": [
        {
          "output_type": "stream",
          "name": "stdout",
          "text": [
            "1.0000002245001247 1.000001122590433\n",
            "48\n"
          ]
        }
      ]
    },
    {
      "cell_type": "markdown",
      "metadata": {
        "id": "GBaGk8XQC48q"
      },
      "source": [
        "**Problem 2)** Consider $A=\\begin{bmatrix}\n",
        "0.7 & 0.2\\\\\n",
        "0.1 & 0.6\n",
        "\\end{bmatrix}$ and the observation matrix $b=\\begin{bmatrix}\n",
        "0.5\\\\\n",
        "0.6\n",
        "\\end{bmatrix}$ in a system $Ax=b$. However, $b$ is not in column space of $A$, thus $Ax \\neq b$ and we need to find $x$ in such a way that $Ax \\approx b$. Using linear least square $x$ can be estimated by minimizing the mean squared error as,  $\\min ||Ax-b||_2$. \n",
        "\n",
        "<br>\n",
        "This can be written as,\n",
        "        \n",
        "$\\underset{x}{\\mathrm{argmin}}||Ax-b||_{2}^{2} = f(x)$\n",
        "\n",
        "We need to find $x$ in such a way that $f(x)$ will be minimum in $L_2$ norm. \n",
        "\n",
        "<br>\n",
        "\n",
        "You need to solve this least square problem using gradient descent algortithm on $f(x)$.\n",
        "\n",
        "<br>\n",
        "To apply this algorithm we need to find gradient of the function, i.e.,\n",
        "<br>\n",
        "              $\\Delta_x f(x)= A^T(Ax-b) = A^TAx-A^Tb$\n",
        "\n",
        "<br>\n",
        "\n",
        "Optimisation for least-squares\n",
        "<br>\n",
        "$||A^TAx-A^Tb||_2>\\delta$, $\\delta$ is the small positive number indicating tolerance.\n",
        "\n",
        "<br>\n",
        "\n",
        "Now we will find new $x$ iteratively using step size $\\alpha$ to find the best fit for $AX=b$ as:\n",
        "\n",
        "<br>\n",
        "$x^{[n+1]}=x^{[n]}-\\alpha (A^TAx-A^Tb)$.\n",
        "<br>\n",
        "\n",
        "We need to choose $\\alpha$, $\\delta$ and $x^{[0]}$ to iterate until $x^{[n+1]} \\rightarrow x^{[n]}$."
      ]
    },
    {
      "cell_type": "code",
      "metadata": {
        "id": "64XWNE_tB--Z",
        "colab": {
          "base_uri": "https://localhost:8080/"
        },
        "outputId": "31eb2c43-1be8-45cc-9354-9b4c0e8d0cc1"
      },
      "source": [
        "#Write your code here.\n",
        "A=np.array([[0.7,0.2],[0.1,0.6]])\n",
        "b=np.array([[0.5],[0.6]])\n",
        "alpha=0.01\n",
        "e=0.000001\n",
        "max_iters=100000\n",
        "print(\"A :\",A)\n",
        "print(\"b :\",b)\n",
        "A_t=A.T\n",
        "print(\"A transpose\",A_t)\n",
        "x0 = np.array([[0],[0]])\n",
        "print('initial x',x0)\n"
      ],
      "execution_count": null,
      "outputs": [
        {
          "output_type": "stream",
          "name": "stdout",
          "text": [
            "A : [[0.7 0.2]\n",
            " [0.1 0.6]]\n",
            "b : [[0.5]\n",
            " [0.6]]\n",
            "A transpose [[0.7 0.1]\n",
            " [0.2 0.6]]\n",
            "initial x [[0]\n",
            " [0]]\n"
          ]
        }
      ]
    },
    {
      "cell_type": "code",
      "source": [
        "gradient = lambda x: np.dot(np.dot(A.T,A),x0)-np.dot(A.T,b)"
      ],
      "metadata": {
        "id": "qSxJ0hXM1Sl8"
      },
      "execution_count": null,
      "outputs": []
    },
    {
      "cell_type": "code",
      "source": [
        "least_square = la.norm(gradient(x0))\n",
        "iter=0\n",
        "max_iter=1000\n",
        "while (least_square > e) and (iter < max_iter):\n",
        "    prev_x = x0\n",
        "    x0 = x0 - alpha * gradient(prev_x) #Grad descent\n",
        "    previous_alpha = abs(x0 - prev_x) #Change in x\n",
        "    iter = iter+1 #iteration count\n",
        "    \n",
        "\n",
        "print(x0)\n",
        "print(iter)"
      ],
      "metadata": {
        "colab": {
          "base_uri": "https://localhost:8080/"
        },
        "id": "a5oGbwKn1mjs",
        "outputId": "7b3b8903-8ada-422b-b60d-97e041e3f7b6"
      },
      "execution_count": null,
      "outputs": [
        {
          "output_type": "stream",
          "name": "stdout",
          "text": [
            "[[0.46459259]\n",
            " [0.90575343]]\n",
            "1000\n"
          ]
        }
      ]
    },
    {
      "cell_type": "markdown",
      "metadata": {
        "id": "Clwi4uJEOCS2"
      },
      "source": [
        "**Problem 3)** Apply stochastic gradient algorithm on the given dataset and estimate $\\theta_0$, $\\theta_1$ and final cost value. Step by step hints have been given for the same.\n",
        "\n"
      ]
    },
    {
      "cell_type": "code",
      "metadata": {
        "id": "DPfkulVvygBR"
      },
      "source": [
        "import numpy as np\n",
        "import matplotlib.pyplot as plt\n",
        "%matplotlib inline"
      ],
      "execution_count": null,
      "outputs": []
    },
    {
      "cell_type": "code",
      "metadata": {
        "id": "dExBbEvOyhWt"
      },
      "source": [
        "plt.style.use(['ggplot'])"
      ],
      "execution_count": null,
      "outputs": []
    },
    {
      "cell_type": "markdown",
      "metadata": {
        "id": "OHh1zFq0-c76"
      },
      "source": [
        "1) Dataset:"
      ]
    },
    {
      "cell_type": "code",
      "metadata": {
        "id": "beRS_81TyrHb"
      },
      "source": [
        "X = 2 * np.random.rand(100,1)\n",
        "y = 4 + 3 * X + np.random.randn(100,1)"
      ],
      "execution_count": null,
      "outputs": []
    },
    {
      "cell_type": "markdown",
      "metadata": {
        "id": "p2rVmgvq-raO"
      },
      "source": [
        "2) Visualize the data."
      ]
    },
    {
      "cell_type": "code",
      "metadata": {
        "colab": {
          "base_uri": "https://localhost:8080/",
          "height": 282
        },
        "id": "zU_a7cJ2ysC8",
        "outputId": "c043a43f-24a1-4141-86a5-b3a537c4f6b0"
      },
      "source": [
        "#Write code here\n",
        "\n",
        "plt.plot(X,y,'b.')\n",
        "plt.xlabel(\"X\")\n",
        "plt.ylabel(\"Y\")\n",
        "_ =plt.axis([0,2,0,15])\n"
      ],
      "execution_count": null,
      "outputs": [
        {
          "output_type": "display_data",
          "data": {
            "image/png": "[encoded data removed]",
            "text/plain": [
              "<Figure size 432x288 with 1 Axes>"
            ]
          },
          "metadata": {}
        }
      ]
    },
    {
      "cell_type": "markdown",
      "metadata": {
        "id": "nKh_nmd9-Zvg"
      },
      "source": [
        "3) We will write the line equation $y=m \\space x+c$ in machine learning form as $J(\\theta)=\\theta_1 X + \\theta_0$. Now choose one random sample $X_b$ (you can concatenate ones and $X$) and find $\\theta_{best} = (X_b^T X_b)^{-1}X_b^Ty$."
      ]
    },
    {
      "cell_type": "code",
      "metadata": {
        "colab": {
          "base_uri": "https://localhost:8080/"
        },
        "id": "eQ4qkWagy2NZ",
        "outputId": "40b70224-c483-4f0d-b9fc-2c089da42a81"
      },
      "source": [
        "#Write code here.\n",
        "#X_b \n",
        "#theta_best\n",
        "a=np.ones((100,1))\n",
        "Xb = np.c_[(a,X)]\n",
        "theta_best = np.linalg.inv(Xb.T.dot(Xb)).dot(Xb.T).dot(y)\n",
        "print(theta_best)"
      ],
      "execution_count": null,
      "outputs": [
        {
          "output_type": "stream",
          "name": "stdout",
          "text": [
            "[[4.20800486]\n",
            " [2.68317992]]\n"
          ]
        }
      ]
    },
    {
      "cell_type": "markdown",
      "metadata": {
        "id": "Rpp2OH_WEGZj"
      },
      "source": [
        "4) For example choose $X_{new}=\\begin{bmatrix}\n",
        "0 \\\\\n",
        "2 \n",
        "\\end{bmatrix}$. Obtain $X_{new_b}$ by concatinating ones and $X_{new}$. Finally find $y_{predict}=X_{new_b}\\theta_{best}$."
      ]
    },
    {
      "cell_type": "code",
      "metadata": {
        "colab": {
          "base_uri": "https://localhost:8080/"
        },
        "id": "tOEj3eHnzDlW",
        "outputId": "af25b29c-b3be-40ea-c20d-4005188f21c6"
      },
      "source": [
        "#Write code here.\n",
        "X_new = np.array([[0],[2]])\n",
        "ones=np.ones((2,1))\n",
        "X_new_b=np.c_[(ones,X_new)]\n",
        "y_predict= X_new_b.dot(theta_best)\n",
        "print(y_predict)"
      ],
      "execution_count": null,
      "outputs": [
        {
          "output_type": "stream",
          "name": "stdout",
          "text": [
            "[[4.20800486]\n",
            " [9.5743647 ]]\n"
          ]
        }
      ]
    },
    {
      "cell_type": "markdown",
      "metadata": {
        "id": "CIWx3hQhEtQb"
      },
      "source": [
        "5) Visualize $X_{new}$ and $y_{predict}$."
      ]
    },
    {
      "cell_type": "code",
      "metadata": {
        "colab": {
          "base_uri": "https://localhost:8080/",
          "height": 282
        },
        "id": "wQGrjNI1zFxB",
        "outputId": "ab1642e0-516e-4d2c-f25c-3013fdeb7015"
      },
      "source": [
        "#Write code here.\n",
        "plt.plot(X_new,y_predict,'r-')\n",
        "plt.plot(X,y,'b.')\n",
        "plt.xlabel(\"x\")\n",
        "plt.ylabel(\"y\")\n",
        "_=plt.axis([0,2,0,15])\n",
        "\n"
      ],
      "execution_count": null,
      "outputs": [
        {
          "output_type": "display_data",
          "data": {
            "image/png": "[encoded data removed]",
            "text/plain": [
              "<Figure size 432x288 with 1 Axes>"
            ]
          },
          "metadata": {}
        }
      ]
    },
    {
      "cell_type": "markdown",
      "metadata": {
        "id": "qh56xsSVI4tl"
      },
      "source": [
        "6) Define the cost function."
      ]
    },
    {
      "cell_type": "code",
      "metadata": {
        "id": "2FooCPCQzKp-"
      },
      "source": [
        "def  cal_cost(theta,X,y):\n",
        "    \n",
        "    m = len(y)\n",
        "    \n",
        "    predictions = X.dot(theta)\n",
        "    cost = (1/2*m) * np.sum(np.square(predictions-y))\n",
        "    \n",
        "    return cost"
      ],
      "execution_count": null,
      "outputs": []
    },
    {
      "cell_type": "markdown",
      "metadata": {
        "id": "g1w82a2ZJSjy"
      },
      "source": [
        "7) Define the gradient descent function."
      ]
    },
    {
      "cell_type": "code",
      "metadata": {
        "id": "SeXRPqAezPEB"
      },
      "source": [
        "def gradient_descent(X,y,theta,learning_rate=0.01,iterations=100):\n",
        "  \n",
        "    m = len(y)\n",
        "    cost_history = np.zeros(iterations)\n",
        "    theta_history = np.zeros((iterations,2))\n",
        "    for it in range(iterations):\n",
        "        \n",
        "        prediction = np.dot(X,theta)\n",
        "        \n",
        "        theta = theta -(1/m)*learning_rate*( X.T.dot((prediction - y)))\n",
        "        theta_history[it,:] =theta.T\n",
        "        cost_history[it]  = cal_cost(theta,X,y)\n",
        "\n",
        "    return theta, cost_history, theta_history"
      ],
      "execution_count": null,
      "outputs": []
    },
    {
      "cell_type": "markdown",
      "metadata": {
        "id": "BJ8NKwEEJgl8"
      },
      "source": [
        "8) Using learning rate $0.01$ and $1000$ iterations find $\\theta_0$, $\\theta_1$ and final cost."
      ]
    },
    {
      "cell_type": "code",
      "metadata": {
        "colab": {
          "base_uri": "https://localhost:8080/"
        },
        "id": "arMN39vnzddI",
        "outputId": "16ed9f02-2099-4ae4-c6fd-394ee620f676"
      },
      "source": [
        "lr =0.01\n",
        "n_iter = 1000\n",
        "\n",
        "theta = np.random.randn(2,1)\n",
        "\n",
        "X_b = np.c_[np.ones((len(X),1)),X]\n",
        "\n",
        "theta,cost_history,theta_history = gradient_descent(X_b,y,theta,lr,n_iter)\n",
        "\n",
        "\n",
        "print('Theta0:          {:0.3f},\\nTheta1:          {:0.3f}'.format(theta[0][0],theta[1][0]))\n",
        "print('Final cost/MSE:  {:0.3f}'.format(cost_history[-1]))"
      ],
      "execution_count": null,
      "outputs": [
        {
          "output_type": "stream",
          "name": "stdout",
          "text": [
            "Theta0:          3.634,\n",
            "Theta1:          3.148\n",
            "Final cost/MSE:  4849.300\n"
          ]
        }
      ]
    },
    {
      "cell_type": "markdown",
      "metadata": {
        "id": "RyC_bp3EJ03s"
      },
      "source": [
        "9) Plot $J(\\theta)$ and iterations."
      ]
    },
    {
      "cell_type": "code",
      "metadata": {
        "colab": {
          "base_uri": "https://localhost:8080/",
          "height": 592
        },
        "id": "tITfZuQHzlvl",
        "outputId": "045b92ee-1cec-47bc-f9f9-6b26adde4d44"
      },
      "source": [
        "#Write code here.\n",
        "fig,ax = plt.subplots(figsize=(15,10))\n",
        "_=ax.plot(range(n_iter),cost_history,'b.')"
      ],
      "execution_count": null,
      "outputs": [
        {
          "output_type": "display_data",
          "data": {
            "image/png": "[encoded data removed]",
            "text/plain": [
              "<Figure size 1080x720 with 1 Axes>"
            ]
          },
          "metadata": {}
        }
      ]
    },
    {
      "cell_type": "markdown",
      "metadata": {
        "id": "YqnQmj2gKOZQ"
      },
      "source": [
        "10) You can also observe the changes in cost function."
      ]
    },
    {
      "cell_type": "code",
      "metadata": {
        "colab": {
          "base_uri": "https://localhost:8080/",
          "height": 592
        },
        "id": "oH3k3daUzsZC",
        "outputId": "26b77c1b-0a57-4a41-8011-bb3af5de5f53"
      },
      "source": [
        "#Write code here.\n",
        "fig,ax = plt.subplots(figsize=(15,10))\n",
        "_=ax.plot(range(200),cost_history[:200],'b.')"
      ],
      "execution_count": null,
      "outputs": [
        {
          "output_type": "display_data",
          "data": {
            "image/png": "[encoded data removed]",
            "text/plain": [
              "<Figure size 1080x720 with 1 Axes>"
            ]
          },
          "metadata": {}
        }
      ]
    },
    {
      "cell_type": "code",
      "metadata": {
        "id": "01knFQHcWPPA",
        "colab": {
          "base_uri": "https://localhost:8080/"
        },
        "outputId": "e6af9873-1d6b-4ba9-8051-84216ed391e7"
      },
      "source": [
        "\n",
        "import pandas as pd\n",
        "import random\n",
        "\n",
        "#Read the excel sheet given\n",
        "\n",
        "#x = np.array(df['x'])\n",
        "#y = np.array(df['y'])\n",
        "\n",
        "x = np.random.randint([1,2,3,4,5])\n",
        "y = np.array([5,7,9,11,13])\n",
        "\n",
        "#noralize x\n",
        "\n",
        "theta0 = 0\n",
        "theta1 = 0\n",
        "\n",
        "\n",
        "eps = 1e-6\n",
        "alpha = 0.01\n",
        "cnt = 0\n",
        "\n",
        "# use while loop for |prev1-theta1| >= eps or |prev2-theta2| >= eps:\n",
        "\n",
        "iterations = 1000\n",
        "n = len(x)\n",
        "for i in range(iterations):\n",
        "        y_pred = theta0 * x + theta1\n",
        "        cost = (1/n) * sum([val**2 for val in (y-y_pred)])\n",
        "        md = -(2/n)*sum(x*(y-y_pred))\n",
        "        bd = -(2/n)*sum(y-y_pred)\n",
        "        theta0 = theta0 - alpha * md\n",
        "        theta1 = theta1 - alpha * bd\n",
        "        \n",
        "print(theta0,theta1)        \n",
        "    \n",
        "\n",
        "\n",
        "\n",
        "\n",
        "    \n",
        "    \n"
      ],
      "execution_count": null,
      "outputs": [
        {
          "output_type": "stream",
          "name": "stdout",
          "text": [
            "2.021281045682893 2.923168672645527\n"
          ]
        }
      ]
    }
  ]
}