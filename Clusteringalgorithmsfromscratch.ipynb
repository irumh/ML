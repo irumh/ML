{
  "cells": [
    {
      "cell_type": "markdown",
      "metadata": {
        "id": "n6QajphVd6UG"
      },
      "source": [
        "# <center> IIIT Vadodara </center>\n",
        "## <center> Winter 2021-22 </center>\n",
        "## <center> CS 612/652, CS/IT 308 Machine Learning </center>\n",
        "## <center> Lab#2 Bayes' classifier,k-means and k-NN</center>"
      ]
    },
    {
      "cell_type": "code",
      "execution_count": null,
      "metadata": {
        "id": "AM_JNWAnd6UJ"
      },
      "outputs": [],
      "source": [
        "import numpy as np\n",
        "import matplotlib.pyplot as plt"
      ]
    },
    {
      "cell_type": "markdown",
      "metadata": {
        "id": "dle8axHKd6UK"
      },
      "source": [
        "## 1. Bayesian decision rule under normality assumption\n",
        "Hint: use classnote for same"
      ]
    },
    {
      "cell_type": "markdown",
      "metadata": {
        "id": "117iFMSEd6UL"
      },
      "source": [
        "### Consider the following data:\n",
        "Here, second column represent the class"
      ]
    },
    {
      "cell_type": "code",
      "execution_count": null,
      "metadata": {
        "id": "Few17AXtd6UM",
        "outputId": "b24194de-9541-464c-d3f7-67d7db46372a",
        "colab": {
          "base_uri": "https://localhost:8080/"
        }
      },
      "outputs": [
        {
          "output_type": "stream",
          "name": "stdout",
          "text": [
            "Feature|Classes\n",
            "[[3.39 0.  ]\n",
            " [3.58 0.  ]\n",
            " [2.28 0.  ]\n",
            " [7.42 1.  ]\n",
            " [5.74 1.  ]\n",
            " [9.17 1.  ]\n",
            " [7.79 1.  ]\n",
            " [7.93 1.  ]\n",
            " [1.34 0.  ]\n",
            " [3.11 0.  ]]\n"
          ]
        }
      ],
      "source": [
        "dataset = np.array([[3.39,0],[3.58,0],[2.28,0],[7.42,1],[5.74,1],[9.17,1],[7.79,1],[7.93,1],[1.34,0],[3.11,0]])\n",
        "print('Feature|Classes')\n",
        "print(dataset)"
      ]
    },
    {
      "cell_type": "markdown",
      "metadata": {
        "id": "M7VbJ2N4d6UN"
      },
      "source": [
        "### Find class probability $P_1$ and $P_2$"
      ]
    },
    {
      "cell_type": "code",
      "execution_count": null,
      "metadata": {
        "id": "6kmEbdE6d6UN"
      },
      "outputs": [],
      "source": [
        "#write code here\n",
        "classes=dataset[:,[1]] \n",
        "features=dataset[:,[0]]\n"
      ]
    },
    {
      "cell_type": "code",
      "source": [
        "data0=features[classes==0]\n",
        "data1=features[classes==1]\n",
        "print(data0)\n",
        "print(data1)\n"
      ],
      "metadata": {
        "colab": {
          "base_uri": "https://localhost:8080/"
        },
        "id": "_Ak6DGhYpIqj",
        "outputId": "fb113af8-c963-4a3a-dba4-d1f43b35e7f2"
      },
      "execution_count": null,
      "outputs": [
        {
          "output_type": "stream",
          "name": "stdout",
          "text": [
            "[3.39 3.58 2.28 1.34 3.11]\n",
            "[7.42 5.74 9.17 7.79 7.93]\n"
          ]
        }
      ]
    },
    {
      "cell_type": "code",
      "source": [
        "\n",
        "classprob={}\n",
        "classprob[0]=len(data0)/len(features)\n",
        "classprob[1]=len(data1)/len(features)\n",
        "print(classprob)\n",
        "\n"
      ],
      "metadata": {
        "colab": {
          "base_uri": "https://localhost:8080/"
        },
        "id": "wR6s8oAOqU5f",
        "outputId": "0f439d57-a568-4c4a-93cc-65767b89bec6"
      },
      "execution_count": null,
      "outputs": [
        {
          "output_type": "stream",
          "name": "stdout",
          "text": [
            "{0: 0.5, 1: 0.5}\n"
          ]
        }
      ]
    },
    {
      "cell_type": "markdown",
      "metadata": {
        "id": "j4rfAZS7d6UN"
      },
      "source": [
        "### Find sample mean and sample standard deviation for each class "
      ]
    },
    {
      "cell_type": "code",
      "execution_count": null,
      "metadata": {
        "id": "xwxuMVaHd6UO"
      },
      "outputs": [],
      "source": [
        "#write code here\n",
        "def mean_stddev(x):\n",
        "    n=len(x)\n",
        "    sum_x=sum(x)\n",
        "    meanx=sum_x/n\n",
        "    var = sum((i - meanx)**2 for i in x) / n\n",
        "    std_dev = var**0.5\n",
        "    return meanx,std_dev\n",
        "\n"
      ]
    },
    {
      "cell_type": "code",
      "source": [
        "#getting statistics for each class\n",
        "stats={}\n",
        "stats[0]=mean_stddev(data0)\n",
        "stats[1]=mean_stddev(data1)\n",
        "stats"
      ],
      "metadata": {
        "colab": {
          "base_uri": "https://localhost:8080/"
        },
        "id": "t_ViJr_pENBe",
        "outputId": "184ea72a-b555-4a50-da66-45b299d5fa70"
      },
      "execution_count": null,
      "outputs": [
        {
          "output_type": "stream",
          "name": "stdout",
          "text": [
            "0.8290476463991681\n"
          ]
        }
      ]
    },
    {
      "cell_type": "markdown",
      "metadata": {
        "id": "tk3qD-lud6UP"
      },
      "source": [
        "### Plot $p_1(x)$ and $p_2(x)$"
      ]
    },
    {
      "cell_type": "code",
      "execution_count": null,
      "metadata": {
        "id": "ZLjTeBLXd6UP"
      },
      "outputs": [],
      "source": [
        "# Calculate the Gaussian probability distribution function for x\n",
        "def calculate_probability(x, mean, stdev):\n",
        "    #write code here\n",
        "    numerator = np.exp(- ((x-mean)**2 / (2 * stdev**2 )))\n",
        "    denominator = np.sqrt(2 * np.pi )* stdev\n",
        "    p=( numerator / denominator) \n",
        "    return p"
      ]
    },
    {
      "cell_type": "code",
      "source": [
        "x  = np.arange(-10,15,0.1)\n",
        "plt.plot(x,calculate_probability(x,stats[0][0],stats[0][1]),'b',x,calculate_probability(x,stats[1][0],stats[1][1]),'r')"
      ],
      "metadata": {
        "colab": {
          "base_uri": "https://localhost:8080/",
          "height": 304
        },
        "id": "BtXE9M4CFGXB",
        "outputId": "555a25b8-83f2-4c90-f383-9b712308a905"
      },
      "execution_count": null,
      "outputs": [
        {
          "output_type": "execute_result",
          "data": {
            "text/plain": [
              "[<matplotlib.lines.Line2D at 0x7fc0a5b09fd0>,\n",
              " <matplotlib.lines.Line2D at 0x7fc0a59fe7d0>]"
            ]
          },
          "metadata": {},
          "execution_count": 16
        },
        {
          "output_type": "display_data",
          "data": {
            "image/png": "[encoded data removed]",
            "text/plain": [
              "<Figure size 432x288 with 1 Axes>"
            ]
          },
          "metadata": {
            "needs_background": "light"
          }
        }
      ]
    },
    {
      "cell_type": "markdown",
      "metadata": {
        "id": "5K9LdvGud6UQ"
      },
      "source": [
        "### Test for $x=3$  and $x=5$"
      ]
    },
    {
      "cell_type": "code",
      "source": [
        "def class_probabilty(x):\n",
        "    prob={}\n",
        "    for c,j in stats.items():\n",
        "      prob[c]=classprob[c]\n",
        "      mean=j[0]\n",
        "      std=j[1]\n",
        "      prob[c]=prob[c]*calculate_probability(x, mean, std)\n",
        "    return prob         \n",
        "          "
      ],
      "metadata": {
        "id": "CjsEO6FNGe8w"
      },
      "execution_count": null,
      "outputs": []
    },
    {
      "cell_type": "code",
      "execution_count": null,
      "metadata": {
        "id": "1LeBy8v7d6US",
        "outputId": "b3c5f0dc-c2dc-4361-a125-48cb3ef01398",
        "colab": {
          "base_uri": "https://localhost:8080/"
        }
      },
      "outputs": [
        {
          "output_type": "stream",
          "name": "stdout",
          "text": [
            "class is 0\n"
          ]
        }
      ],
      "source": [
        "#for x=3\n",
        "#write code here\n",
        "x=3\n",
        "y=class_probabilty(x)\n",
        "if y[0]>y[1] :\n",
        "  print('class is 0')\n",
        "else:\n",
        "  print('class is 1') \n",
        "    "
      ]
    },
    {
      "cell_type": "code",
      "execution_count": null,
      "metadata": {
        "id": "KRLvMSB3d6US",
        "outputId": "5837aded-a774-4021-aa45-89791481fcfb",
        "colab": {
          "base_uri": "https://localhost:8080/"
        }
      },
      "outputs": [
        {
          "output_type": "stream",
          "name": "stdout",
          "text": [
            "class is 1\n"
          ]
        }
      ],
      "source": [
        "#for x=5\n",
        "#write code here\n",
        "x=5\n",
        "y=class_probabilty(x)\n",
        "if y[0]>y[1] :\n",
        "  print('class is 0')\n",
        "else:\n",
        "  print('class is 1') "
      ]
    },
    {
      "cell_type": "code",
      "source": [
        "# to optimise the above \n",
        "def test_check(x):\n",
        "    y=class_probabilty(x)\n",
        "    if y[0]>y[1] :\n",
        "        print('class is 0')\n",
        "    else:\n",
        "        print('class is 1')\n",
        "\n",
        "test_check(5)  \n",
        "      "
      ],
      "metadata": {
        "colab": {
          "base_uri": "https://localhost:8080/"
        },
        "id": "_NwBAxm7NK_H",
        "outputId": "0b1c4f36-c4cf-4c6f-f27a-cb3dd6ee9ce7"
      },
      "execution_count": null,
      "outputs": [
        {
          "output_type": "stream",
          "name": "stdout",
          "text": [
            "class is 1\n"
          ]
        }
      ]
    },
    {
      "cell_type": "markdown",
      "metadata": {
        "id": "8cvJKeTvd6UT"
      },
      "source": [
        "## Homework:\n",
        "1. Try for this 2-D data using classnote.\n",
        "![image.png](data:image/png;base64,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) \n",
        "2. Implement Bayesian classifier for iris data.\n",
        "You can get help from following link. https://machinelearningmastery.com/naive-bayes-classifier-scratch-python/"
      ]
    },
    {
      "cell_type": "code",
      "execution_count": null,
      "metadata": {
        "id": "RRUT98Gbd6UT",
        "colab": {
          "base_uri": "https://localhost:8080/"
        },
        "outputId": "7245449d-6631-4d07-9e6d-1759625d1eae"
      },
      "outputs": [
        {
          "output_type": "execute_result",
          "data": {
            "text/plain": [
              "{0.0: [(3.39, 2.33), (3.11, 1.78), (1.34, 3.36), (3.58, 4.67), (2.28, 2.86)],\n",
              " 1.0: [(7.42, 4.69), (5.74, 3.53), (9.17, 2.51), (7.79, 3.42), (7.93, 0.79)]}"
            ]
          },
          "metadata": {},
          "execution_count": 62
        }
      ],
      "source": [
        "#write code here\n",
        "# first for the two d dataset \n",
        "# step 1 get the data\n",
        "dataset= np.array([[3.39,2.33,0],[3.11,1.78,0],[1.34,3.36,0],[3.58,4.67,0],[2.28,2.86,0],[7.42,4.69,1],[5.74,3.53,1],[9.17,2.51,1],[7.79,3.42,1],[7.93,0.79,1]])\n",
        "# get the classes and their respective features\n",
        "#separating data with classes\n",
        "data={}\n",
        "for x in dataset:\n",
        "  if x[2] not in data:\n",
        "     data[x[2]]=[]\n",
        "  data[x[2]].append((x[0],x[1]))   \n",
        "data\n"
      ]
    },
    {
      "cell_type": "code",
      "source": [
        "#calculate prior prob\n",
        "classprob={}\n",
        "for i,j in data.items():\n",
        "   classprob[i]=len(j)/10\n",
        "print(classprob)"
      ],
      "metadata": {
        "colab": {
          "base_uri": "https://localhost:8080/"
        },
        "id": "DsAdCovCdDpe",
        "outputId": "4cee8e09-6cef-4af2-f931-b967a7e5f2fc"
      },
      "execution_count": null,
      "outputs": [
        {
          "output_type": "stream",
          "name": "stdout",
          "text": [
            "{0.0: 0.5, 1.0: 0.5}\n"
          ]
        }
      ]
    },
    {
      "cell_type": "code",
      "source": [
        "#stats for each class using the function already described\n",
        "stats={}\n",
        "for i,j in data.items():\n",
        "    stats[i]=[]\n",
        "    for coloumn in zip(*j):\n",
        "        y=mean_stddev(coloumn)\n",
        "        stats[i].append(y)\n",
        "stats    "
      ],
      "metadata": {
        "colab": {
          "base_uri": "https://localhost:8080/"
        },
        "id": "a-ONBkj2eUt_",
        "outputId": "207325c1-d563-49b1-9a57-0e3cc8edc976"
      },
      "execution_count": null,
      "outputs": [
        {
          "output_type": "execute_result",
          "data": {
            "text/plain": [
              "{0.0: [(2.7399999999999998, 0.8290476463991681), (3.0, 0.9874613916503266)],\n",
              " 1.0: [(7.609999999999999, 1.1046628444914763),\n",
              "  (2.9880000000000004, 1.2989903771775988)]}"
            ]
          },
          "metadata": {},
          "execution_count": 68
        }
      ]
    },
    {
      "cell_type": "code",
      "source": [
        "def prob_class(stats,x):\n",
        "     prob={}\n",
        "     for c,j in stats.items():\n",
        "       prob[c]=classprob[c]\n",
        "       for i in range(len(j)):\n",
        "           mean,std=j[i]\n",
        "           prob[c]=prob[c]*calculate_probability(x[i], mean, std)\n",
        "     return prob \n"
      ],
      "metadata": {
        "id": "-XBh5RNxfrUj"
      },
      "execution_count": null,
      "outputs": []
    },
    {
      "cell_type": "code",
      "source": [
        "test_case=[[3,2],[9,3]]\n",
        "y= prob_class(stats,test_case[0])\n",
        "print(y)\n",
        "z= prob_class(stats,test_case[1])\n",
        "print(z)\n",
        "def test_check(y):\n",
        "    if y[0]>y[1] :\n",
        "        print('class is 0')\n",
        "    else:\n",
        "        print('class is 1')\n",
        "print('test for [3,2]')  \n",
        "test_check(y)  \n",
        "print('test for [9,3]')\n",
        "test_check(z)\n",
        "  "
      ],
      "metadata": {
        "colab": {
          "base_uri": "https://localhost:8080/"
        },
        "id": "p0XUqYBiimN5",
        "outputId": "65ebd962-a05e-4d1f-8246-2176763d5ae9"
      },
      "execution_count": null,
      "outputs": [
        {
          "output_type": "stream",
          "name": "stdout",
          "text": [
            "{0.0: 0.05541618020856703, 1.0: 6.863593819199928e-06}\n",
            "{0.0: 4.045989191269353e-14, 1.0: 0.025125877543362218}\n",
            "test for [3,2]\n",
            "class is 0\n",
            "test for [9,3]\n",
            "class is 1\n"
          ]
        }
      ]
    },
    {
      "cell_type": "code",
      "source": [
        "#iris data set naive bayes\n",
        "from sklearn import datasets\n",
        "iris = datasets.load_iris()\n",
        "data=iris.data\n",
        "X = iris.data\n",
        "y = iris.target\n",
        "#separating data by classes\n",
        "data0 = X[y == 0]\n",
        "data1 = X[y == 1]\n",
        "data2 = X[y == 2]\n",
        "#calculate prior probabilities p1,p2,p3\n",
        "classprob={}\n",
        "classprob[0]=len(data0)/len(X)\n",
        "classprob[1]=len(data1)/len(X)\n",
        "classprob[2]=len(data2)/len(X)\n",
        "print(classprob)\n"
      ],
      "metadata": {
        "colab": {
          "base_uri": "https://localhost:8080/"
        },
        "id": "ON7DM-30j9rA",
        "outputId": "22696584-4671-41c2-c1bb-9b16790267cd"
      },
      "execution_count": null,
      "outputs": [
        {
          "output_type": "stream",
          "name": "stdout",
          "text": [
            "{0: 0.3333333333333333, 1: 0.3333333333333333, 2: 0.3333333333333333}\n"
          ]
        }
      ]
    },
    {
      "cell_type": "code",
      "source": [
        "stats={}\n",
        "stats[0]=mean_stddev(data0)\n",
        "stats[1]=mean_stddev(data1)\n",
        "stats[2]=mean_stddev(data2)\n",
        "stats"
      ],
      "metadata": {
        "colab": {
          "base_uri": "https://localhost:8080/"
        },
        "id": "zwgzK7LErLDw",
        "outputId": "ec214fbd-d794-45d8-dbb1-104a151fc87c"
      },
      "execution_count": null,
      "outputs": [
        {
          "output_type": "execute_result",
          "data": {
            "text/plain": [
              "{0: (array([5.006, 3.428, 1.462, 0.246]),\n",
              "  array([0.34894699, 0.37525458, 0.17191859, 0.10432641])),\n",
              " 1: (array([5.936, 2.77 , 4.26 , 1.326]),\n",
              "  array([0.51098337, 0.31064449, 0.46518813, 0.19576517])),\n",
              " 2: (array([6.588, 2.974, 5.552, 2.026]),\n",
              "  array([0.62948868, 0.31925538, 0.54634787, 0.27188968]))}"
            ]
          },
          "metadata": {},
          "execution_count": 5
        }
      ]
    },
    {
      "cell_type": "code",
      "source": [
        "import math"
      ],
      "metadata": {
        "id": "KAautRVUc8VK"
      },
      "execution_count": null,
      "outputs": []
    },
    {
      "cell_type": "code",
      "source": [
        "sep={}\n",
        "for i,j in zip(data,y):\n",
        "  if k not in sep:\n",
        "    sep[k]=[]\n",
        "  sep[k].append((i[0],i[1],i[2],i[3]))\n",
        "    \n",
        "stat = {}\n",
        "for c, f in sep.items():\n",
        "  stat[c] = []\n",
        "  for column in zip(*f):\n",
        "    mean = sum(column) / len(column)\n",
        "    var = sum([(x - mean)**2 for x in column]) / (len(column)-1)\n",
        "\n",
        "    stat[c].append((mean, var**0.5))\n"
      ],
      "metadata": {
        "id": "wvr95SVFWjuE"
      },
      "execution_count": null,
      "outputs": []
    },
    {
      "cell_type": "code",
      "source": [
        "test=np.array([[5.7, 2.9, 4.2, 1.3]])\n",
        "y=prob_class(stat,test[0])\n",
        "y"
      ],
      "metadata": {
        "colab": {
          "base_uri": "https://localhost:8080/"
        },
        "id": "rQyPIv9UCI3W",
        "outputId": "c2598da0-d18a-42bd-df52-b69c93ab9928"
      },
      "execution_count": null,
      "outputs": [
        {
          "output_type": "execute_result",
          "data": {
            "text/plain": [
              "{3: 0.056264622496228336}"
            ]
          },
          "metadata": {},
          "execution_count": 81
        }
      ]
    },
    {
      "cell_type": "code",
      "source": [
        ""
      ],
      "metadata": {
        "id": "xkvIY5tDKXtt"
      },
      "execution_count": null,
      "outputs": []
    },
    {
      "cell_type": "markdown",
      "source": [
        "MAM ,\n",
        "I will submit KNN and Kmeans separately again in the part 2 .\n",
        "Here i have not done Kmeans fully "
      ],
      "metadata": {
        "id": "PtM7ezYCKX3O"
      }
    },
    {
      "cell_type": "markdown",
      "metadata": {
        "id": "Apq_vAVNd6UT"
      },
      "source": [
        "## 2. K-Nearest neighbour (KNN)\n",
        "\n",
        "Consider the following observations:\n",
        "<br>\n",
        ">Sr.No. | Feature 1 | Feature 2 | Class\n",
        ">--- | --- | --- | ---\n",
        "Training data\n",
        ">1 | -2 | -1 | C1\n",
        ">2 | -2 |  1 | C2\n",
        ">3 | -2 |  2 | C2\n",
        ">4 | -1 | -1 | C1\n",
        ">5 |  1 | -1 | C1\n",
        ">6 |  1 |  1 | C3\n",
        ">7 |  1 |  2 | C3\n",
        ">8 |  2 |  1 | C3\n",
        "Test data\n",
        ">1 | -1 |  1 | Not available\n",
        "\n",
        "Use KNN technique to classify the test data using K=3.\n",
        "\n",
        "Hint: \n",
        "<br>\n",
        "1) Calculate the Euclidean distance between the new point and the existing points.\n",
        "<br>\n",
        "2) Sort out the points distance-wise.\n",
        "<br>\n",
        "3) Now select the k-neighbours. "
      ]
    },
    {
      "cell_type": "code",
      "execution_count": null,
      "metadata": {
        "scrolled": true,
        "id": "TH9__Umgd6UU",
        "outputId": "23ab6561-2189-4465-b15b-19eabc3b0d5a",
        "colab": {
          "base_uri": "https://localhost:8080/"
        }
      },
      "outputs": [
        {
          "output_type": "stream",
          "name": "stdout",
          "text": [
            "Feature1|Feature2|Class\n",
            "[[-2. -1.  1.]\n",
            " [-2.  1.  2.]\n",
            " [-2.  2.  2.]\n",
            " [-1. -1.  1.]\n",
            " [ 1. -1.  1.]\n",
            " [ 1.  1.  3.]\n",
            " [ 1.  2.  3.]\n",
            " [ 2.  1.  3.]]\n"
          ]
        }
      ],
      "source": [
        "import numpy as np\n",
        "data = np.float32([[-2,-1,1],[-2,1,2],[-2,2,2],[-1,-1,1],[1,-1,1],[1,1,3],[1,2,3],[2,1,3]])\n",
        "print('Feature1|Feature2|Class')\n",
        "print(data)"
      ]
    },
    {
      "cell_type": "code",
      "source": [
        "# to calculate distances\n",
        "def euclidean_distance(a,b):\n",
        "  dist = np.sqrt(np.sum(np.square(a-b)))\n",
        "  return dist\n",
        "# to find the k nearest neighbour for the new point in the dataset\n",
        "def KNN(K,X_train,new_point): \n",
        "    neighbours=[]\n",
        "    # find distances from the new_point to all the points in the training dataset\n",
        "    for i in range(len(X_train)):\n",
        "        dist=euclidean_distance(X_train[i],new_point)\n",
        "        #appending distance and the index of the training data point\n",
        "        neighbours.append([i,dist])\n",
        "    #sort them according to distance in O(nlogn)    \n",
        "    neighbours=sorted( neighbours,key = lambda x : x[1])\n",
        "    return  neighbours[0:K]    "
      ],
      "metadata": {
        "id": "xCETxOxJHppb"
      },
      "execution_count": null,
      "outputs": []
    },
    {
      "cell_type": "code",
      "source": [
        "from collections import Counter\n",
        "def classify( neighbours):\n",
        "    #extracting classes \n",
        "    #get the classes of the k nearest neighbours from y_train which stores class labels\n",
        "    classes=np.array([Y_train[i[0]] for i in  neighbours])\n",
        "    #then we get the most common element \n",
        "    index=classes[1].argmax()\n",
        "    output=classes[0][index]     \n",
        "    #Counter(classes).most_common(1)[0][0]\n",
        "    return output"
      ],
      "metadata": {
        "id": "JdtatV5TQLVq"
      },
      "execution_count": null,
      "outputs": []
    },
    {
      "cell_type": "code",
      "source": [
        "X_train=data[:,[0,1]]\n",
        "Y_train=data[:,[2]]"
      ],
      "metadata": {
        "id": "RQ6DBOtSSAyT"
      },
      "execution_count": null,
      "outputs": []
    },
    {
      "cell_type": "code",
      "source": [
        "new_points=np.array([[1,-1]])\n",
        "knn=KNN(3,X_train,new_points[0])\n",
        "classify(knn)"
      ],
      "metadata": {
        "colab": {
          "base_uri": "https://localhost:8080/"
        },
        "id": "bq9458dGRiy8",
        "outputId": "175fbb8b-9915-460c-e80b-d896f8abf998"
      },
      "execution_count": null,
      "outputs": [
        {
          "output_type": "execute_result",
          "data": {
            "text/plain": [
              "1.0"
            ]
          },
          "metadata": {},
          "execution_count": 27
        }
      ]
    },
    {
      "cell_type": "markdown",
      "metadata": {
        "id": "1QLtlHahd6UW"
      },
      "source": [
        "## 3. K-Means\n",
        "\n",
        "Ignore the class information of the training data given in problem 2 and use K-means algorithm to classify the same. Assume the initial starting classes as:  \n",
        "<br>\n",
        "C1={observations 1,2}\n",
        "<br>\n",
        "C2={observations 3,4,5}\n",
        "<br>\n",
        "C3={observations 6,7,8}\n",
        "<br>\n",
        "\n",
        "Now using the result find the class that would be assigned to the test data.\n",
        "\n",
        "<br>\n",
        "Hint: \n",
        "\n",
        "1) Find the centroid (mean) of each cluster based on the initial classes assignment given.\n",
        "\n",
        "2) Find out the Euclidean distance between each point and each cluster centroid. \n",
        "\n",
        "3) Assign all the points to the closest cluster centroid.\n",
        "\n",
        "4) Recompute centroids of newly formed clusters.\n",
        "\n",
        "5) Stop if the new centroids are same as old centroids else repeat step 2 to 4. "
      ]
    },
    {
      "cell_type": "code",
      "source": [
        "\n",
        "X = data[:,:-1]\n",
        "m,n = X.shape\n",
        "X\n"
      ],
      "metadata": {
        "colab": {
          "base_uri": "https://localhost:8080/"
        },
        "id": "Fl6XyibUxZHc",
        "outputId": "62afac0a-9369-4221-8c68-6cc3b6067fad"
      },
      "execution_count": null,
      "outputs": [
        {
          "output_type": "execute_result",
          "data": {
            "text/plain": [
              "array([[-2., -1.],\n",
              "       [-2.,  1.],\n",
              "       [-2.,  2.],\n",
              "       [-1., -1.],\n",
              "       [ 1., -1.],\n",
              "       [ 1.,  1.],\n",
              "       [ 1.,  2.],\n",
              "       [ 2.,  1.]], dtype=float32)"
            ]
          },
          "metadata": {},
          "execution_count": 18
        }
      ]
    },
    {
      "cell_type": "code",
      "source": [
        "c1=X[5:8,:]\n",
        "centroid={}\n",
        "centroid[0]=np.average(c1, axis=0)\n",
        "print(c1)\n",
        "print(centroid)"
      ],
      "metadata": {
        "colab": {
          "base_uri": "https://localhost:8080/"
        },
        "id": "dbpaWUrayDlB",
        "outputId": "35eb3980-4fe8-4e2c-c7f8-d5ed32eb1038"
      },
      "execution_count": null,
      "outputs": [
        {
          "output_type": "stream",
          "name": "stdout",
          "text": [
            "[[1. 1.]\n",
            " [1. 2.]\n",
            " [2. 1.]]\n",
            "{0: array([1.3333334, 1.3333334], dtype=float32)}\n"
          ]
        }
      ]
    },
    {
      "cell_type": "code",
      "execution_count": null,
      "metadata": {
        "id": "JVQcxPHBd6UX",
        "outputId": "a7c10fa1-5654-4c21-ef52-638f2cf47b0b",
        "colab": {
          "base_uri": "https://localhost:8080/"
        }
      },
      "outputs": [
        {
          "output_type": "stream",
          "name": "stdout",
          "text": [
            "intial centroids = \n",
            " [[[-2.         0.       ]\n",
            "  [-0.6666667  0.       ]\n",
            "  [ 1.3333334  1.3333334]]]\n"
          ]
        }
      ],
      "source": [
        "centroid = {}\n",
        "#write code here\n",
        "#initial classes are given\n",
        "c1=X[:2,:]\n",
        "c2=X[2:5,:]\n",
        "c3=X[5:8,:]\n",
        "\n",
        "centroid[0]=np.average(c1,axis=0)\n",
        "centroid[1]=np.average(c2,axis=0)\n",
        "centroid[2]=np.average(c3,axis=0)\n",
        "arr=[]\n",
        "arr.append([centroid[0],centroid[1],centroid[2]])\n",
        "cent=np.asarray(arr)\n",
        "print('intial centroids = \\n',cent)\n",
        "\n"
      ]
    },
    {
      "cell_type": "code",
      "execution_count": null,
      "metadata": {
        "id": "7BCLTA_hd6UX",
        "outputId": "b471dfd2-9470-4885-bc5c-466024497eff"
      },
      "outputs": [
        {
          "name": "stdout",
          "output_type": "stream",
          "text": [
            "centroids = \n",
            " [[-2.          0.        ]\n",
            " [-0.66666669  0.        ]\n",
            " [ 1.33333337  1.33333337]]\n"
          ]
        },
        {
          "data": {
            "image/png": "[encoded data removed]",
            "text/plain": [
              "<Figure size 432x288 with 1 Axes>"
            ]
          },
          "metadata": {
            "needs_background": "light"
          },
          "output_type": "display_data"
        },
        {
          "name": "stdout",
          "output_type": "stream",
          "text": [
            "centroids = \n",
            " [[-2.          0.66666667]\n",
            " [ 0.         -1.        ]\n",
            " [ 1.33333333  1.33333333]]\n"
          ]
        },
        {
          "data": {
            "image/png": "[encoded data removed]",
            "text/plain": [
              "<Figure size 432x288 with 1 Axes>"
            ]
          },
          "metadata": {
            "needs_background": "light"
          },
          "output_type": "display_data"
        },
        {
          "name": "stdout",
          "output_type": "stream",
          "text": [
            "Feature1|Feature2|Class\n",
            "[[-2. -1.  0.]\n",
            " [-2.  1.  0.]\n",
            " [-2.  2.  0.]\n",
            " [-1. -1.  1.]\n",
            " [ 1. -1.  1.]\n",
            " [ 1.  1.  2.]\n",
            " [ 1.  2.  2.]\n",
            " [ 2.  1.  2.]]\n"
          ]
        }
      ],
      "source": [
        "#write code for kmeans\n"
      ]
    }
  ],
  "metadata": {
    "accelerator": "GPU",
    "colab": {
      "collapsed_sections": [],
      "name": "Copy of IRUM HUSSAIN - LAB_2.ipynb",
      "provenance": []
    },
    "kernelspec": {
      "display_name": "Python 3",
      "language": "python",
      "name": "python3"
    },
    "language_info": {
      "codemirror_mode": {
        "name": "ipython",
        "version": 3
      },
      "file_extension": ".py",
      "mimetype": "text/x-python",
      "name": "python",
      "nbconvert_exporter": "python",
      "pygments_lexer": "ipython3",
      "version": "3.8.5"
    }
  },
  "nbformat": 4,
  "nbformat_minor": 0
}